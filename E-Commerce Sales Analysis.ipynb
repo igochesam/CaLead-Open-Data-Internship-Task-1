{
 "cells": [
  {
   "cell_type": "markdown",
   "id": "3c852751",
   "metadata": {},
   "source": [
    "# CaLead Week 1"
   ]
  },
  {
   "cell_type": "code",
   "execution_count": 1,
   "id": "35815077",
   "metadata": {},
   "outputs": [],
   "source": [
    "# Import the necessary packages\n",
    "\n",
    "import pandas as pd\n",
    "import seaborn as sns\n",
    "import matplotlib.pyplot as plt\n",
    "import numpy as np"
   ]
  },
  {
   "cell_type": "code",
   "execution_count": 2,
   "id": "0ea6d7ac",
   "metadata": {},
   "outputs": [
    {
     "data": {
      "text/html": [
       "<div>\n",
       "<style scoped>\n",
       "    .dataframe tbody tr th:only-of-type {\n",
       "        vertical-align: middle;\n",
       "    }\n",
       "\n",
       "    .dataframe tbody tr th {\n",
       "        vertical-align: top;\n",
       "    }\n",
       "\n",
       "    .dataframe thead th {\n",
       "        text-align: right;\n",
       "    }\n",
       "</style>\n",
       "<table border=\"1\" class=\"dataframe\">\n",
       "  <thead>\n",
       "    <tr style=\"text-align: right;\">\n",
       "      <th></th>\n",
       "      <th>TransactionNo</th>\n",
       "      <th>Date</th>\n",
       "      <th>ProductNo</th>\n",
       "      <th>ProductName</th>\n",
       "      <th>Price</th>\n",
       "      <th>Quantity</th>\n",
       "      <th>CustomerNo</th>\n",
       "      <th>Country</th>\n",
       "    </tr>\n",
       "  </thead>\n",
       "  <tbody>\n",
       "    <tr>\n",
       "      <th>0</th>\n",
       "      <td>551004</td>\n",
       "      <td>2019-04-26</td>\n",
       "      <td>21843</td>\n",
       "      <td>Red Retrospot Cake Stand</td>\n",
       "      <td>31.56</td>\n",
       "      <td>1</td>\n",
       "      <td>12004.0</td>\n",
       "      <td>United Kingdom</td>\n",
       "    </tr>\n",
       "    <tr>\n",
       "      <th>1</th>\n",
       "      <td>551004</td>\n",
       "      <td>2019-04-26</td>\n",
       "      <td>22501</td>\n",
       "      <td>Picnic Basket Wicker Large</td>\n",
       "      <td>31.56</td>\n",
       "      <td>1</td>\n",
       "      <td>12004.0</td>\n",
       "      <td>United Kingdom</td>\n",
       "    </tr>\n",
       "    <tr>\n",
       "      <th>2</th>\n",
       "      <td>551004</td>\n",
       "      <td>2019-04-26</td>\n",
       "      <td>22171</td>\n",
       "      <td>3 Hook Photo Shelf Antique White</td>\n",
       "      <td>27.30</td>\n",
       "      <td>1</td>\n",
       "      <td>12004.0</td>\n",
       "      <td>United Kingdom</td>\n",
       "    </tr>\n",
       "    <tr>\n",
       "      <th>3</th>\n",
       "      <td>551004</td>\n",
       "      <td>2019-04-26</td>\n",
       "      <td>21257</td>\n",
       "      <td>Victorian Sewing Box Medium</td>\n",
       "      <td>26.43</td>\n",
       "      <td>1</td>\n",
       "      <td>12004.0</td>\n",
       "      <td>United Kingdom</td>\n",
       "    </tr>\n",
       "    <tr>\n",
       "      <th>4</th>\n",
       "      <td>551004</td>\n",
       "      <td>2019-04-26</td>\n",
       "      <td>22966</td>\n",
       "      <td>Gingerbread Man Cookie Cutter</td>\n",
       "      <td>12.77</td>\n",
       "      <td>1</td>\n",
       "      <td>12004.0</td>\n",
       "      <td>United Kingdom</td>\n",
       "    </tr>\n",
       "  </tbody>\n",
       "</table>\n",
       "</div>"
      ],
      "text/plain": [
       "  TransactionNo       Date ProductNo                       ProductName  Price  \\\n",
       "0        551004 2019-04-26     21843          Red Retrospot Cake Stand  31.56   \n",
       "1        551004 2019-04-26     22501        Picnic Basket Wicker Large  31.56   \n",
       "2        551004 2019-04-26     22171  3 Hook Photo Shelf Antique White  27.30   \n",
       "3        551004 2019-04-26     21257       Victorian Sewing Box Medium  26.43   \n",
       "4        551004 2019-04-26     22966     Gingerbread Man Cookie Cutter  12.77   \n",
       "\n",
       "   Quantity  CustomerNo         Country  \n",
       "0         1     12004.0  United Kingdom  \n",
       "1         1     12004.0  United Kingdom  \n",
       "2         1     12004.0  United Kingdom  \n",
       "3         1     12004.0  United Kingdom  \n",
       "4         1     12004.0  United Kingdom  "
      ]
     },
     "execution_count": 2,
     "metadata": {},
     "output_type": "execute_result"
    }
   ],
   "source": [
    "df = pd.read_excel('Downloads/CaLead Week 1.xlsx')\n",
    "df.head()"
   ]
  },
  {
   "cell_type": "markdown",
   "id": "395ddec6",
   "metadata": {},
   "source": [
    "## Data Cleaning"
   ]
  },
  {
   "cell_type": "code",
   "execution_count": 3,
   "id": "5021f628",
   "metadata": {},
   "outputs": [
    {
     "data": {
      "text/plain": [
       "TransactionNo     0\n",
       "Date              0\n",
       "ProductNo         0\n",
       "ProductName       0\n",
       "Price             0\n",
       "Quantity          0\n",
       "CustomerNo       55\n",
       "Country           0\n",
       "dtype: int64"
      ]
     },
     "execution_count": 3,
     "metadata": {},
     "output_type": "execute_result"
    }
   ],
   "source": [
    "# Check for blank rows\n",
    "df.isnull().sum()\n",
    "\n",
    "#Observing the empty cells, you'll find that they all belong to the cancelled transactions"
   ]
  },
  {
   "cell_type": "code",
   "execution_count": 4,
   "id": "923f1036",
   "metadata": {},
   "outputs": [
    {
     "data": {
      "text/html": [
       "<div>\n",
       "<style scoped>\n",
       "    .dataframe tbody tr th:only-of-type {\n",
       "        vertical-align: middle;\n",
       "    }\n",
       "\n",
       "    .dataframe tbody tr th {\n",
       "        vertical-align: top;\n",
       "    }\n",
       "\n",
       "    .dataframe thead th {\n",
       "        text-align: right;\n",
       "    }\n",
       "</style>\n",
       "<table border=\"1\" class=\"dataframe\">\n",
       "  <thead>\n",
       "    <tr style=\"text-align: right;\">\n",
       "      <th></th>\n",
       "      <th>TransactionNo</th>\n",
       "      <th>Date</th>\n",
       "      <th>ProductNo</th>\n",
       "      <th>ProductName</th>\n",
       "      <th>Price</th>\n",
       "      <th>Quantity</th>\n",
       "      <th>CustomerNo</th>\n",
       "      <th>Country</th>\n",
       "      <th>status</th>\n",
       "    </tr>\n",
       "  </thead>\n",
       "  <tbody>\n",
       "    <tr>\n",
       "      <th>0</th>\n",
       "      <td>551004</td>\n",
       "      <td>2019-04-26</td>\n",
       "      <td>21843</td>\n",
       "      <td>Red Retrospot Cake Stand</td>\n",
       "      <td>31.56</td>\n",
       "      <td>1</td>\n",
       "      <td>12004.0</td>\n",
       "      <td>United Kingdom</td>\n",
       "      <td>successful</td>\n",
       "    </tr>\n",
       "    <tr>\n",
       "      <th>1</th>\n",
       "      <td>551004</td>\n",
       "      <td>2019-04-26</td>\n",
       "      <td>22501</td>\n",
       "      <td>Picnic Basket Wicker Large</td>\n",
       "      <td>31.56</td>\n",
       "      <td>1</td>\n",
       "      <td>12004.0</td>\n",
       "      <td>United Kingdom</td>\n",
       "      <td>successful</td>\n",
       "    </tr>\n",
       "    <tr>\n",
       "      <th>2</th>\n",
       "      <td>551004</td>\n",
       "      <td>2019-04-26</td>\n",
       "      <td>22171</td>\n",
       "      <td>3 Hook Photo Shelf Antique White</td>\n",
       "      <td>27.30</td>\n",
       "      <td>1</td>\n",
       "      <td>12004.0</td>\n",
       "      <td>United Kingdom</td>\n",
       "      <td>successful</td>\n",
       "    </tr>\n",
       "    <tr>\n",
       "      <th>3</th>\n",
       "      <td>551004</td>\n",
       "      <td>2019-04-26</td>\n",
       "      <td>21257</td>\n",
       "      <td>Victorian Sewing Box Medium</td>\n",
       "      <td>26.43</td>\n",
       "      <td>1</td>\n",
       "      <td>12004.0</td>\n",
       "      <td>United Kingdom</td>\n",
       "      <td>successful</td>\n",
       "    </tr>\n",
       "    <tr>\n",
       "      <th>4</th>\n",
       "      <td>551004</td>\n",
       "      <td>2019-04-26</td>\n",
       "      <td>22966</td>\n",
       "      <td>Gingerbread Man Cookie Cutter</td>\n",
       "      <td>12.77</td>\n",
       "      <td>1</td>\n",
       "      <td>12004.0</td>\n",
       "      <td>United Kingdom</td>\n",
       "      <td>successful</td>\n",
       "    </tr>\n",
       "  </tbody>\n",
       "</table>\n",
       "</div>"
      ],
      "text/plain": [
       "  TransactionNo       Date ProductNo                       ProductName  Price  \\\n",
       "0        551004 2019-04-26     21843          Red Retrospot Cake Stand  31.56   \n",
       "1        551004 2019-04-26     22501        Picnic Basket Wicker Large  31.56   \n",
       "2        551004 2019-04-26     22171  3 Hook Photo Shelf Antique White  27.30   \n",
       "3        551004 2019-04-26     21257       Victorian Sewing Box Medium  26.43   \n",
       "4        551004 2019-04-26     22966     Gingerbread Man Cookie Cutter  12.77   \n",
       "\n",
       "   Quantity  CustomerNo         Country      status  \n",
       "0         1     12004.0  United Kingdom  successful  \n",
       "1         1     12004.0  United Kingdom  successful  \n",
       "2         1     12004.0  United Kingdom  successful  \n",
       "3         1     12004.0  United Kingdom  successful  \n",
       "4         1     12004.0  United Kingdom  successful  "
      ]
     },
     "execution_count": 4,
     "metadata": {},
     "output_type": "execute_result"
    }
   ],
   "source": [
    "# Create a column named 'Status' to return 'Successful' for successful transactions and 'Cancelled' for cancelled transactions\n",
    "\n",
    "# Use numpy's where function to create the new column 'status'\n",
    "df['status'] = np.where(df['TransactionNo'].str.startswith('C', na=False), 'cancelled', 'successful')\n",
    "\n",
    "# Display the resulting DataFrame\n",
    "df.head()\n"
   ]
  },
  {
   "cell_type": "code",
   "execution_count": 5,
   "id": "2770deba",
   "metadata": {},
   "outputs": [
    {
     "data": {
      "text/plain": [
       "array(['successful', 'cancelled'], dtype=object)"
      ]
     },
     "execution_count": 5,
     "metadata": {},
     "output_type": "execute_result"
    }
   ],
   "source": [
    "#Check for unique values in the status column\n",
    "\n",
    "df['status'].unique()"
   ]
  },
  {
   "cell_type": "code",
   "execution_count": 6,
   "id": "1b37f15d",
   "metadata": {},
   "outputs": [
    {
     "data": {
      "text/html": [
       "<div>\n",
       "<style scoped>\n",
       "    .dataframe tbody tr th:only-of-type {\n",
       "        vertical-align: middle;\n",
       "    }\n",
       "\n",
       "    .dataframe tbody tr th {\n",
       "        vertical-align: top;\n",
       "    }\n",
       "\n",
       "    .dataframe thead th {\n",
       "        text-align: right;\n",
       "    }\n",
       "</style>\n",
       "<table border=\"1\" class=\"dataframe\">\n",
       "  <thead>\n",
       "    <tr style=\"text-align: right;\">\n",
       "      <th></th>\n",
       "      <th>TransactionNo</th>\n",
       "      <th>Date</th>\n",
       "      <th>ProductNo</th>\n",
       "      <th>ProductName</th>\n",
       "      <th>Price</th>\n",
       "      <th>Quantity</th>\n",
       "      <th>TotalCost</th>\n",
       "      <th>CustomerNo</th>\n",
       "      <th>Country</th>\n",
       "      <th>status</th>\n",
       "    </tr>\n",
       "  </thead>\n",
       "  <tbody>\n",
       "    <tr>\n",
       "      <th>0</th>\n",
       "      <td>551004</td>\n",
       "      <td>2019-04-26</td>\n",
       "      <td>21843</td>\n",
       "      <td>Red Retrospot Cake Stand</td>\n",
       "      <td>31.56</td>\n",
       "      <td>1</td>\n",
       "      <td>31.56</td>\n",
       "      <td>12004.0</td>\n",
       "      <td>United Kingdom</td>\n",
       "      <td>successful</td>\n",
       "    </tr>\n",
       "    <tr>\n",
       "      <th>1</th>\n",
       "      <td>551004</td>\n",
       "      <td>2019-04-26</td>\n",
       "      <td>22501</td>\n",
       "      <td>Picnic Basket Wicker Large</td>\n",
       "      <td>31.56</td>\n",
       "      <td>1</td>\n",
       "      <td>31.56</td>\n",
       "      <td>12004.0</td>\n",
       "      <td>United Kingdom</td>\n",
       "      <td>successful</td>\n",
       "    </tr>\n",
       "    <tr>\n",
       "      <th>2</th>\n",
       "      <td>551004</td>\n",
       "      <td>2019-04-26</td>\n",
       "      <td>22171</td>\n",
       "      <td>3 Hook Photo Shelf Antique White</td>\n",
       "      <td>27.30</td>\n",
       "      <td>1</td>\n",
       "      <td>27.30</td>\n",
       "      <td>12004.0</td>\n",
       "      <td>United Kingdom</td>\n",
       "      <td>successful</td>\n",
       "    </tr>\n",
       "    <tr>\n",
       "      <th>3</th>\n",
       "      <td>551004</td>\n",
       "      <td>2019-04-26</td>\n",
       "      <td>21257</td>\n",
       "      <td>Victorian Sewing Box Medium</td>\n",
       "      <td>26.43</td>\n",
       "      <td>1</td>\n",
       "      <td>26.43</td>\n",
       "      <td>12004.0</td>\n",
       "      <td>United Kingdom</td>\n",
       "      <td>successful</td>\n",
       "    </tr>\n",
       "    <tr>\n",
       "      <th>4</th>\n",
       "      <td>551004</td>\n",
       "      <td>2019-04-26</td>\n",
       "      <td>22966</td>\n",
       "      <td>Gingerbread Man Cookie Cutter</td>\n",
       "      <td>12.77</td>\n",
       "      <td>1</td>\n",
       "      <td>12.77</td>\n",
       "      <td>12004.0</td>\n",
       "      <td>United Kingdom</td>\n",
       "      <td>successful</td>\n",
       "    </tr>\n",
       "  </tbody>\n",
       "</table>\n",
       "</div>"
      ],
      "text/plain": [
       "  TransactionNo       Date ProductNo                       ProductName  Price  \\\n",
       "0        551004 2019-04-26     21843          Red Retrospot Cake Stand  31.56   \n",
       "1        551004 2019-04-26     22501        Picnic Basket Wicker Large  31.56   \n",
       "2        551004 2019-04-26     22171  3 Hook Photo Shelf Antique White  27.30   \n",
       "3        551004 2019-04-26     21257       Victorian Sewing Box Medium  26.43   \n",
       "4        551004 2019-04-26     22966     Gingerbread Man Cookie Cutter  12.77   \n",
       "\n",
       "   Quantity  TotalCost  CustomerNo         Country      status  \n",
       "0         1      31.56     12004.0  United Kingdom  successful  \n",
       "1         1      31.56     12004.0  United Kingdom  successful  \n",
       "2         1      27.30     12004.0  United Kingdom  successful  \n",
       "3         1      26.43     12004.0  United Kingdom  successful  \n",
       "4         1      12.77     12004.0  United Kingdom  successful  "
      ]
     },
     "execution_count": 6,
     "metadata": {},
     "output_type": "execute_result"
    }
   ],
   "source": [
    "# Create a new column called 'TotalCost' which is a product of the price and quantity columns\n",
    "\n",
    "df.insert(6, 'TotalCost', df['Price'] * df['Quantity'])\n",
    "\n",
    "df.head()"
   ]
  },
  {
   "cell_type": "code",
   "execution_count": 7,
   "id": "0f2ae17d",
   "metadata": {},
   "outputs": [
    {
     "data": {
      "text/plain": [
       "TransactionNo            object\n",
       "Date             datetime64[ns]\n",
       "ProductNo                object\n",
       "ProductName              object\n",
       "Price                   float64\n",
       "Quantity                  int64\n",
       "TotalCost               float64\n",
       "CustomerNo               object\n",
       "Country                  object\n",
       "status                   object\n",
       "dtype: object"
      ]
     },
     "execution_count": 7,
     "metadata": {},
     "output_type": "execute_result"
    }
   ],
   "source": [
    "# convert 'CustomerNo', 'TransactionNo', and 'ProductNo' to strings\n",
    "\n",
    "df['TransactionNo'] = df['TransactionNo'].astype(str)\n",
    "df['ProductNo'] = df['ProductNo'].astype(str)\n",
    "df['CustomerNo'] = df['CustomerNo'].astype(str)\n",
    "\n",
    "# Confirm conversion\n",
    "df.dtypes"
   ]
  },
  {
   "cell_type": "code",
   "execution_count": 9,
   "id": "d21f743f",
   "metadata": {},
   "outputs": [
    {
     "data": {
      "text/plain": [
       "TransactionNo    0\n",
       "Date             0\n",
       "ProductNo        0\n",
       "ProductName      0\n",
       "Price            0\n",
       "Quantity         0\n",
       "TotalCost        0\n",
       "CustomerNo       0\n",
       "Country          0\n",
       "status           0\n",
       "dtype: int64"
      ]
     },
     "execution_count": 9,
     "metadata": {},
     "output_type": "execute_result"
    }
   ],
   "source": [
    "# Replace the blank columns in the 'CustomerNo' column with 'C'\n",
    "\n",
    "df['CustomerNo'] = df['CustomerNo'].fillna('C')\n",
    "\n",
    "#Check\n",
    "\n",
    "df.isnull().sum()"
   ]
  },
  {
   "cell_type": "markdown",
   "id": "95456b0c",
   "metadata": {},
   "source": [
    "## EDA"
   ]
  },
  {
   "cell_type": "code",
   "execution_count": 10,
   "id": "992c4b52",
   "metadata": {},
   "outputs": [
    {
     "name": "stdout",
     "output_type": "stream",
     "text": [
      "<class 'pandas.core.frame.DataFrame'>\n",
      "RangeIndex: 536350 entries, 0 to 536349\n",
      "Data columns (total 10 columns):\n",
      " #   Column         Non-Null Count   Dtype         \n",
      "---  ------         --------------   -----         \n",
      " 0   TransactionNo  536350 non-null  object        \n",
      " 1   Date           536350 non-null  datetime64[ns]\n",
      " 2   ProductNo      536350 non-null  object        \n",
      " 3   ProductName    536350 non-null  object        \n",
      " 4   Price          536350 non-null  float64       \n",
      " 5   Quantity       536350 non-null  int64         \n",
      " 6   TotalCost      536350 non-null  float64       \n",
      " 7   CustomerNo     536350 non-null  object        \n",
      " 8   Country        536350 non-null  object        \n",
      " 9   status         536350 non-null  object        \n",
      "dtypes: datetime64[ns](1), float64(2), int64(1), object(6)\n",
      "memory usage: 40.9+ MB\n"
     ]
    }
   ],
   "source": [
    "# Check basic info of the dataframe\n",
    "\n",
    "df.info()"
   ]
  },
  {
   "cell_type": "code",
   "execution_count": 12,
   "id": "46014700",
   "metadata": {},
   "outputs": [
    {
     "data": {
      "text/html": [
       "<div>\n",
       "<style scoped>\n",
       "    .dataframe tbody tr th:only-of-type {\n",
       "        vertical-align: middle;\n",
       "    }\n",
       "\n",
       "    .dataframe tbody tr th {\n",
       "        vertical-align: top;\n",
       "    }\n",
       "\n",
       "    .dataframe thead th {\n",
       "        text-align: right;\n",
       "    }\n",
       "</style>\n",
       "<table border=\"1\" class=\"dataframe\">\n",
       "  <thead>\n",
       "    <tr style=\"text-align: right;\">\n",
       "      <th></th>\n",
       "      <th>Price</th>\n",
       "      <th>Quantity</th>\n",
       "      <th>TotalCost</th>\n",
       "    </tr>\n",
       "  </thead>\n",
       "  <tbody>\n",
       "    <tr>\n",
       "      <th>count</th>\n",
       "      <td>527765.000000</td>\n",
       "      <td>527765.000000</td>\n",
       "      <td>5.277650e+05</td>\n",
       "    </tr>\n",
       "    <tr>\n",
       "      <th>mean</th>\n",
       "      <td>12.629636</td>\n",
       "      <td>10.594674</td>\n",
       "      <td>1.193068e+02</td>\n",
       "    </tr>\n",
       "    <tr>\n",
       "      <th>std</th>\n",
       "      <td>7.933217</td>\n",
       "      <td>156.786646</td>\n",
       "      <td>1.851191e+03</td>\n",
       "    </tr>\n",
       "    <tr>\n",
       "      <th>min</th>\n",
       "      <td>5.130000</td>\n",
       "      <td>1.000000</td>\n",
       "      <td>5.130000e+00</td>\n",
       "    </tr>\n",
       "    <tr>\n",
       "      <th>25%</th>\n",
       "      <td>10.990000</td>\n",
       "      <td>1.000000</td>\n",
       "      <td>1.717000e+01</td>\n",
       "    </tr>\n",
       "    <tr>\n",
       "      <th>50%</th>\n",
       "      <td>11.940000</td>\n",
       "      <td>3.000000</td>\n",
       "      <td>4.383000e+01</td>\n",
       "    </tr>\n",
       "    <tr>\n",
       "      <th>75%</th>\n",
       "      <td>14.090000</td>\n",
       "      <td>11.000000</td>\n",
       "      <td>1.194000e+02</td>\n",
       "    </tr>\n",
       "    <tr>\n",
       "      <th>max</th>\n",
       "      <td>660.620000</td>\n",
       "      <td>80995.000000</td>\n",
       "      <td>1.002718e+06</td>\n",
       "    </tr>\n",
       "  </tbody>\n",
       "</table>\n",
       "</div>"
      ],
      "text/plain": [
       "               Price       Quantity     TotalCost\n",
       "count  527765.000000  527765.000000  5.277650e+05\n",
       "mean       12.629636      10.594674  1.193068e+02\n",
       "std         7.933217     156.786646  1.851191e+03\n",
       "min         5.130000       1.000000  5.130000e+00\n",
       "25%        10.990000       1.000000  1.717000e+01\n",
       "50%        11.940000       3.000000  4.383000e+01\n",
       "75%        14.090000      11.000000  1.194000e+02\n",
       "max       660.620000   80995.000000  1.002718e+06"
      ]
     },
     "execution_count": 12,
     "metadata": {},
     "output_type": "execute_result"
    }
   ],
   "source": [
    "# Get summary statistics of numeric columns. Now, we are only focusing on successful transactions\n",
    "\n",
    "df_successful = df[df['status'] == 'successful']\n",
    "\n",
    "df_successful.describe()"
   ]
  },
  {
   "cell_type": "code",
   "execution_count": 13,
   "id": "77f67e88",
   "metadata": {},
   "outputs": [],
   "source": [
    "# Since there is a Date column, we can extract insights over time by seetting the Date column as the index and resample or plot trends.\n",
    "df_successful.set_index('Date', inplace=True)\n"
   ]
  },
  {
   "cell_type": "code",
   "execution_count": 15,
   "id": "991248b5",
   "metadata": {},
   "outputs": [],
   "source": [
    "# Correlation matrix\n",
    "\n",
    "df_successful.corr()"
   ]
  },
  {
   "cell_type": "markdown",
   "id": "2ffffd78",
   "metadata": {},
   "source": [
    "## Question 1: Monthly Sales Trend"
   ]
  },
  {
   "cell_type": "code",
   "execution_count": 16,
   "id": "a5715c75",
   "metadata": {},
   "outputs": [
    {
     "data": {
      "image/png": "[encoded data removed]",
      "text/plain": [
       "<Figure size 864x432 with 1 Axes>"
      ]
     },
     "metadata": {
      "needs_background": "light"
     },
     "output_type": "display_data"
    }
   ],
   "source": [
    "# Date' column is already set as the index\n",
    "df_successful.index = pd.to_datetime(df_successful.index)\n",
    "\n",
    "# Use the resample function to aggregate the data on a monthly basis\n",
    "monthly_sales = df_successful['TotalCost'].resample('M').sum()\n",
    "\n",
    "#plot the sales trend\n",
    "plt.figure(figsize=(12, 6))\n",
    "plt.plot(monthly_sales.index, monthly_sales, marker='o', linestyle='-')\n",
    "plt.title('Monthly Sales Trend')\n",
    "plt.xlabel('Month')\n",
    "plt.ylabel('Total Sales')\n",
    "plt.grid(True)\n",
    "plt.show()"
   ]
  },
  {
   "cell_type": "code",
   "execution_count": 17,
   "id": "288b1ec0",
   "metadata": {},
   "outputs": [
    {
     "data": {
      "image/png": "[encoded data removed]",
      "text/plain": [
       "<Figure size 864x432 with 1 Axes>"
      ]
     },
     "metadata": {
      "needs_background": "light"
     },
     "output_type": "display_data"
    }
   ],
   "source": [
    "plt.figure(figsize=(12, 6))\n",
    "plt.plot(monthly_sales.index, monthly_sales, marker='o', linestyle='-', color='b')\n",
    "plt.title('Monthly Sales Trend')\n",
    "plt.xlabel('Month')\n",
    "plt.ylabel('Total Sales')\n",
    "plt.grid(True)\n",
    "plt.xticks(rotation=45)  # Rotate x-axis labels for better visibility\n",
    "plt.tight_layout()\n",
    "plt.show()\n"
   ]
  },
  {
   "cell_type": "code",
   "execution_count": 18,
   "id": "679254d9",
   "metadata": {},
   "outputs": [
    {
     "data": {
      "text/plain": [
       "4843536.487692308"
      ]
     },
     "execution_count": 18,
     "metadata": {},
     "output_type": "execute_result"
    }
   ],
   "source": [
    "# Average monthly sales\n",
    "\n",
    "monthly_sales.mean()"
   ]
  },
  {
   "cell_type": "markdown",
   "id": "5d8e59d5",
   "metadata": {},
   "source": [
    "## Question 2: Most Frequently Purchased Products"
   ]
  },
  {
   "cell_type": "code",
   "execution_count": 22,
   "id": "3071b0f9",
   "metadata": {},
   "outputs": [
    {
     "data": {
      "text/plain": [
       "Cream Hanging Heart T-Light Holder    2336\n",
       "Jumbo Bag Red Retrospot               2115\n",
       "Regency Cakestand 3 Tier              2019\n",
       "Party Bunting                         1708\n",
       "Lunch Bag Red Retrospot               1597\n",
       "Assorted Colour Bird Ornament         1491\n",
       "Popcorn Holder                        1426\n",
       "Set Of 3 Cake Tins Pantry Design      1399\n",
       "Pack Of 72 Retrospot Cake Cases       1373\n",
       "Lunch Bag Black Skull                 1329\n",
       "Lunch Bag Suki Design                 1328\n",
       "Natural Slate Heart Chalkboard        1263\n",
       "Jumbo Bag Vintage Doily               1249\n",
       "Jumbo Bag Pink Polkadot               1238\n",
       "Heart Of Wicker Small                 1226\n",
       "Paper Chain Kit 50'S Christmas        1200\n",
       "Jumbo Storage Bag Suki                1197\n",
       "Jumbo Shopper Vintage Red Paisley     1191\n",
       "Lunch Bag Spaceboy Design             1179\n",
       "Lunch Bag Cars Blue                   1174\n",
       "Name: ProductName, dtype: int64"
      ]
     },
     "execution_count": 22,
     "metadata": {},
     "output_type": "execute_result"
    }
   ],
   "source": [
    "most_frequent_products = df_successful['ProductName'].value_counts()\n",
    "\n",
    "top20 = most_frequent_products.head(20)\n",
    "top20"
   ]
  },
  {
   "cell_type": "code",
   "execution_count": 23,
   "id": "736f1f0c",
   "metadata": {},
   "outputs": [
    {
     "data": {
      "image/png": "[encoded data removed]",
      "text/plain": [
       "<Figure size 864x432 with 1 Axes>"
      ]
     },
     "metadata": {
      "needs_background": "light"
     },
     "output_type": "display_data"
    }
   ],
   "source": [
    "# plot a graph of the most frequently purchased products\n",
    "\n",
    "plt.figure(figsize=(12,6))\n",
    "top20.plot(kind='bar', color='red')\n",
    "plt.title('Top 20 Most Frequently Purchased Products')\n",
    "plt.xlabel('Product')\n",
    "plt.ylabel('Frequency')\n",
    "plt.xticks(rotation=45, ha='right')\n",
    "plt.show()"
   ]
  },
  {
   "cell_type": "code",
   "execution_count": 37,
   "id": "20a1f6c5",
   "metadata": {},
   "outputs": [
    {
     "data": {
      "text/plain": [
       "Paper Craft Little Birdie            1\n",
       "Curious Images Scrap Book Set        1\n",
       "Pink Polkadot Kids Bag               1\n",
       "Blue Drop Earrings W Bead Cluster    1\n",
       "Pink Feather Christmas Decoration    1\n",
       "                                    ..\n",
       "Large Heart Flowers Hook             1\n",
       "Orange/Fuschia Stones Necklace       1\n",
       "Pink Dolly Hair Clips                1\n",
       "Glass Bead Hoop Necklace Black       1\n",
       "Scallop Shell Soap Dish              1\n",
       "Name: ProductName, Length: 122, dtype: int64"
      ]
     },
     "execution_count": 37,
     "metadata": {},
     "output_type": "execute_result"
    }
   ],
   "source": [
    "bottom20 = most_frequent_products.tail(122)\n",
    "bottom20"
   ]
  },
  {
   "cell_type": "markdown",
   "id": "ffe30f42",
   "metadata": {},
   "source": [
    "## Question 3: Quantity of Products in Each Transaction"
   ]
  },
  {
   "cell_type": "code",
   "execution_count": 41,
   "id": "6f432cb7",
   "metadata": {},
   "outputs": [
    {
     "name": "stdout",
     "output_type": "stream",
     "text": [
      "282.54158665992924\n",
      "80995\n",
      "1\n"
     ]
    }
   ],
   "source": [
    "quantity_per_transaction = df_successful.groupby('TransactionNo')['Quantity'].sum()\n",
    "print(quantity_per_transaction.mean())\n",
    "print(quantity_per_transaction.max())\n",
    "print(quantity_per_transaction.min())"
   ]
  },
  {
   "cell_type": "code",
   "execution_count": 45,
   "id": "a3286273",
   "metadata": {},
   "outputs": [
    {
     "data": {
      "text/plain": [
       "19790"
      ]
     },
     "execution_count": 45,
     "metadata": {},
     "output_type": "execute_result"
    }
   ],
   "source": [
    "# Find the total number of successful transactions\n",
    "\n",
    "df_successful['TransactionNo'].nunique()"
   ]
  },
  {
   "cell_type": "code",
   "execution_count": 46,
   "id": "975ddf5d",
   "metadata": {},
   "outputs": [
    {
     "data": {
      "text/plain": [
       "TransactionNo\n",
       "536365    40\n",
       "536366    12\n",
       "536367    83\n",
       "536368    15\n",
       "536369     3\n",
       "Name: Quantity, dtype: int64"
      ]
     },
     "execution_count": 46,
     "metadata": {},
     "output_type": "execute_result"
    }
   ],
   "source": [
    "quantity_per_transaction.head()"
   ]
  },
  {
   "cell_type": "markdown",
   "id": "c6e519b5",
   "metadata": {},
   "source": [
    "## Most Profitable Customer Segments"
   ]
  },
  {
   "cell_type": "code",
   "execution_count": 47,
   "id": "c00d8a4f",
   "metadata": {},
   "outputs": [
    {
     "data": {
      "text/plain": [
       "CustomerNo\n",
       "12004.0     1509.60\n",
       "12006.0       24.76\n",
       "12008.0     5689.57\n",
       "12013.0       69.96\n",
       "12024.0      149.52\n",
       "             ...   \n",
       "18281.0      576.58\n",
       "18282.0     1044.86\n",
       "18283.0    12114.61\n",
       "18287.0    18139.56\n",
       "nan           82.00\n",
       "Name: TotalCost, Length: 4719, dtype: float64"
      ]
     },
     "execution_count": 47,
     "metadata": {},
     "output_type": "execute_result"
    }
   ],
   "source": [
    "# Calculate total revenue per customer\n",
    "\n",
    "df_successful.groupby('CustomerNo')['TotalCost'].sum()"
   ]
  },
  {
   "cell_type": "code",
   "execution_count": 50,
   "id": "f4255101",
   "metadata": {},
   "outputs": [
    {
     "data": {
      "text/plain": [
       "Country\n",
       "Australia               610.427903\n",
       "Austria                  78.220882\n",
       "Bahrain                 189.815294\n",
       "Belgium                 108.548815\n",
       "Brazil                  150.073226\n",
       "Canada                  203.272733\n",
       "Channel Islands         154.729419\n",
       "Cyprus                  108.240885\n",
       "Czech Republic          319.768333\n",
       "Denmark                 247.754877\n",
       "EIRE                    219.471109\n",
       "European Community      108.951404\n",
       "Finland                 176.344242\n",
       "France                  128.033570\n",
       "Germany                 133.939772\n",
       "Greece                  144.276567\n",
       "Hong Kong               181.931373\n",
       "Iceland                  48.693647\n",
       "Israel                  153.473073\n",
       "Italy                   125.859359\n",
       "Japan                   869.897448\n",
       "Lebanon                 126.496000\n",
       "Lithuania               240.825882\n",
       "Malta                    94.201704\n",
       "Netherlands             925.001543\n",
       "Norway                  203.465502\n",
       "Poland                  114.411040\n",
       "Portugal                 95.816322\n",
       "RSA                      74.733860\n",
       "Saudi Arabia            107.722222\n",
       "Singapore               295.260233\n",
       "Spain                   117.775469\n",
       "Sweden                  984.999730\n",
       "Switzerland             157.172927\n",
       "USA                     123.103558\n",
       "United Arab Emirates    178.600896\n",
       "United Kingdom          109.936891\n",
       "Unspecified              73.152237\n",
       "Name: TotalCost, dtype: float64"
      ]
     },
     "execution_count": 50,
     "metadata": {},
     "output_type": "execute_result"
    }
   ],
   "source": [
    "# Explore profitablility across countries\n",
    "\n",
    "revenue_per_country = df_successful.groupby('Country')['TotalCost'].mean()\n",
    "revenue_per_country"
   ]
  },
  {
   "cell_type": "code",
   "execution_count": 57,
   "id": "624a8a46",
   "metadata": {},
   "outputs": [
    {
     "data": {
      "text/plain": [
       "Country\n",
       "Sweden                  984.999730\n",
       "Netherlands             925.001543\n",
       "Japan                   869.897448\n",
       "Australia               610.427903\n",
       "Czech Republic          319.768333\n",
       "Singapore               295.260233\n",
       "Denmark                 247.754877\n",
       "Lithuania               240.825882\n",
       "EIRE                    219.471109\n",
       "Norway                  203.465502\n",
       "Canada                  203.272733\n",
       "Bahrain                 189.815294\n",
       "Hong Kong               181.931373\n",
       "United Arab Emirates    178.600896\n",
       "Finland                 176.344242\n",
       "Switzerland             157.172927\n",
       "Channel Islands         154.729419\n",
       "Israel                  153.473073\n",
       "Brazil                  150.073226\n",
       "Greece                  144.276567\n",
       "Germany                 133.939772\n",
       "France                  128.033570\n",
       "Lebanon                 126.496000\n",
       "Italy                   125.859359\n",
       "USA                     123.103558\n",
       "Spain                   117.775469\n",
       "Poland                  114.411040\n",
       "United Kingdom          109.936891\n",
       "European Community      108.951404\n",
       "Belgium                 108.548815\n",
       "Cyprus                  108.240885\n",
       "Saudi Arabia            107.722222\n",
       "Portugal                 95.816322\n",
       "Malta                    94.201704\n",
       "Austria                  78.220882\n",
       "RSA                      74.733860\n",
       "Unspecified              73.152237\n",
       "Iceland                  48.693647\n",
       "Name: TotalCost, dtype: float64"
      ]
     },
     "execution_count": 57,
     "metadata": {},
     "output_type": "execute_result"
    }
   ],
   "source": [
    "# Most Profitable Country\n",
    "\n",
    "most_profitable_country = revenue_per_country.max()\n",
    "revenue5 = revenue_per_country.sort_values(ascending=False)\n",
    "revenue5"
   ]
  },
  {
   "cell_type": "code",
   "execution_count": 58,
   "id": "4e759ec8",
   "metadata": {},
   "outputs": [
    {
     "data": {
      "image/png": "[encoded data removed]",
      "text/plain": [
       "<Figure size 864x432 with 1 Axes>"
      ]
     },
     "metadata": {
      "needs_background": "light"
     },
     "output_type": "display_data"
    }
   ],
   "source": [
    "plt.figure(figsize=(12,6))\n",
    "revenue5.head(5).plot(kind='bar', color = 'blue')\n",
    "plt.title('Top 5 Countries by Average Revenue')\n",
    "plt.xlabel('Country')\n",
    "plt.ylabel('Average Revenue')\n",
    "plt.xticks(rotation=45, ha ='right')\n",
    "plt.show()"
   ]
  },
  {
   "cell_type": "code",
   "execution_count": null,
   "id": "3b646486",
   "metadata": {},
   "outputs": [],
   "source": []
  },
  {
   "cell_type": "code",
   "execution_count": null,
   "id": "5ca7ca7a",
   "metadata": {},
   "outputs": [],
   "source": []
  },
  {
   "cell_type": "code",
   "execution_count": null,
   "id": "9398925a",
   "metadata": {},
   "outputs": [],
   "source": []
  }
 ],
 "metadata": {
  "kernelspec": {
   "display_name": "Python 3 (ipykernel)",
   "language": "python",
   "name": "python3"
  },
  "language_info": {
   "codemirror_mode": {
    "name": "ipython",
    "version": 3
   },
   "file_extension": ".py",
   "mimetype": "text/x-python",
   "name": "python",
   "nbconvert_exporter": "python",
   "pygments_lexer": "ipython3",
   "version": "3.9.12"
  }
 },
 "nbformat": 4,
 "nbformat_minor": 5
}
